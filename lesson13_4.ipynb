{
 "cells": [
  {
   "cell_type": "code",
   "execution_count": 6,
   "metadata": {},
   "outputs": [
    {
     "data": {
      "text/plain": [
       "學生1     76\n",
       "學生2     82\n",
       "學生3     68\n",
       "學生4     99\n",
       "學生5     61\n",
       "學生6     70\n",
       "學生7     65\n",
       "學生8     82\n",
       "學生9     61\n",
       "學生10    77\n",
       "dtype: int64"
      ]
     },
     "metadata": {},
     "output_type": "display_data"
    }
   ],
   "source": [
    "import numpy as np\n",
    "import pandas as pd\n",
    "\n",
    "n1 = np.random.randint(50,100,size=(10,))\n",
    "s1 = pd.Series(data=n1,index=[f\"學生{i+1}\" for i in range(10)])\n",
    "display(s1)"
   ]
  }
 ],
 "metadata": {
  "kernelspec": {
   "display_name": "Python 3",
   "language": "python",
   "name": "python3"
  },
  "language_info": {
   "codemirror_mode": {
    "name": "ipython",
    "version": 3
   },
   "file_extension": ".py",
   "mimetype": "text/x-python",
   "name": "python",
   "nbconvert_exporter": "python",
   "pygments_lexer": "ipython3",
   "version": "3.10.8"
  },
  "orig_nbformat": 4
 },
 "nbformat": 4,
 "nbformat_minor": 2
}
