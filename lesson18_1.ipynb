{
 "cells": [
  {
   "cell_type": "code",
   "execution_count": 2,
   "metadata": {},
   "outputs": [
    {
     "data": {
      "text/plain": [
       "[[75, 74, 75, 98, 75],\n",
       " [74, 59, 57, 51, 78],\n",
       " [88, 91, 55, 86, 64],\n",
       " [91, 62, 61, 61, 92],\n",
       " [89, 50, 86, 94, 90],\n",
       " [82, 82, 76, 86, 94],\n",
       " [53, 62, 63, 56, 68],\n",
       " [87, 86, 57, 96, 93],\n",
       " [73, 80, 87, 51, 51],\n",
       " [77, 97, 88, 76, 53],\n",
       " [100, 98, 99, 80, 89],\n",
       " [86, 81, 97, 83, 92],\n",
       " [62, 75, 61, 77, 84],\n",
       " [70, 84, 73, 53, 84],\n",
       " [61, 91, 89, 91, 60],\n",
       " [80, 57, 58, 96, 54],\n",
       " [63, 68, 92, 83, 70],\n",
       " [79, 83, 94, 67, 61],\n",
       " [72, 55, 51, 84, 66],\n",
       " [65, 80, 86, 86, 69],\n",
       " [85, 58, 94, 98, 78],\n",
       " [72, 64, 69, 93, 51],\n",
       " [50, 52, 100, 58, 71],\n",
       " [77, 60, 86, 65, 97],\n",
       " [87, 59, 59, 85, 87],\n",
       " [94, 73, 57, 95, 84],\n",
       " [93, 78, 82, 72, 79],\n",
       " [83, 92, 94, 52, 90],\n",
       " [76, 83, 87, 69, 64],\n",
       " [60, 61, 67, 52, 69],\n",
       " [65, 98, 66, 58, 63],\n",
       " [89, 85, 56, 67, 78],\n",
       " [71, 55, 58, 55, 78],\n",
       " [82, 75, 70, 65, 72],\n",
       " [93, 51, 52, 60, 76],\n",
       " [50, 67, 59, 73, 65],\n",
       " [77, 82, 70, 88, 72],\n",
       " [79, 56, 71, 75, 99],\n",
       " [80, 93, 66, 71, 87],\n",
       " [61, 65, 70, 63, 85],\n",
       " [89, 52, 65, 84, 61],\n",
       " [73, 52, 68, 60, 63],\n",
       " [50, 79, 69, 90, 65],\n",
       " [61, 59, 72, 67, 57],\n",
       " [77, 67, 79, 76, 87],\n",
       " [69, 53, 81, 62, 87],\n",
       " [59, 61, 92, 52, 68],\n",
       " [57, 56, 86, 56, 72],\n",
       " [66, 80, 50, 85, 97],\n",
       " [72, 67, 88, 100, 61]]"
      ]
     },
     "execution_count": 2,
     "metadata": {},
     "output_type": "execute_result"
    }
   ],
   "source": [
    "import random\n",
    "students = []\n",
    "for _ in range(50):\n",
    "    stu = list()\n",
    "    for _ in range(5):\n",
    "        stu.append(random.randint(50, 100))\n",
    "    students.append(stu)\n",
    "students"
   ]
  },
  {
   "cell_type": "code",
   "execution_count": 4,
   "metadata": {},
   "outputs": [],
   "source": [
    "import csv\n",
    "csv_file = open('students.csv', newline='',mode='w',encoding='utf-8')\n",
    "csv_write = csv.writer(csv_file)\n",
    "csv_write.writerow(['國文','英文','數學','地理','歷史'])\n",
    "csv_write.writerows(students)\n",
    "csv_file.close()"
   ]
  }
 ],
 "metadata": {
  "kernelspec": {
   "display_name": "Python 3",
   "language": "python",
   "name": "python3"
  },
  "language_info": {
   "codemirror_mode": {
    "name": "ipython",
    "version": 3
   },
   "file_extension": ".py",
   "mimetype": "text/x-python",
   "name": "python",
   "nbconvert_exporter": "python",
   "pygments_lexer": "ipython3",
   "version": "3.10.8"
  },
  "orig_nbformat": 4
 },
 "nbformat": 4,
 "nbformat_minor": 2
}
